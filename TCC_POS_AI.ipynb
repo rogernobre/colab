{
  "nbformat": 4,
  "nbformat_minor": 0,
  "metadata": {
    "colab": {
      "name": "TCC_POS_AI.ipynb",
      "provenance": [],
      "private_outputs": true,
      "collapsed_sections": [],
      "mount_file_id": "15FYut-aDeM5wY2wzF8NHj5_6mhC6VyUL",
      "authorship_tag": "ABX9TyMZqMJo66IOlPnhS5ZzLYPK",
      "include_colab_link": true
    },
    "kernelspec": {
      "name": "python3",
      "display_name": "Python 3"
    },
    "language_info": {
      "name": "python"
    },
    "gpuClass": "standard"
  },
  "cells": [
    {
      "cell_type": "markdown",
      "metadata": {
        "id": "view-in-github",
        "colab_type": "text"
      },
      "source": [
        "<a href=\"https://colab.research.google.com/github/rogernobre/colab/blob/main/TCC_POS_AI.ipynb\" target=\"_parent\"><img src=\"https://colab.research.google.com/assets/colab-badge.svg\" alt=\"Open In Colab\"/></a>"
      ]
    },
    {
      "cell_type": "code",
      "execution_count": null,
      "metadata": {
        "id": "jypdTglM5F3z"
      },
      "outputs": [],
      "source": [
        "import numpy as np\n",
        "import pandas as pd"
      ]
    },
    {
      "cell_type": "code",
      "source": [
        "env2020 = pd.read_csv('/content/drive/MyDrive/Colab/si_env-2020.csv', encoding='iso-8859-1', sep=';') "
      ],
      "metadata": {
        "id": "z0HolRB5R9Jh"
      },
      "execution_count": null,
      "outputs": []
    },
    {
      "cell_type": "code",
      "source": [
        "env2020.isnull().sum()"
      ],
      "metadata": {
        "id": "WvzoLeAOSnvq"
      },
      "execution_count": null,
      "outputs": []
    },
    {
      "cell_type": "code",
      "source": [
        "env2020.info()"
      ],
      "metadata": {
        "id": "J6cIFJXNUSmm"
      },
      "execution_count": null,
      "outputs": []
    },
    {
      "cell_type": "code",
      "source": [
        "env2021 = pd.read_csv('/content/drive/MyDrive/Colab/si_env-2021.csv', encoding='iso-8859-1', sep=';') "
      ],
      "metadata": {
        "id": "fbOqwrrRdJaQ"
      },
      "execution_count": null,
      "outputs": []
    },
    {
      "cell_type": "code",
      "source": [
        "env2021.duplicated()"
      ],
      "metadata": {
        "id": "iuIDJNGIdqXQ"
      },
      "execution_count": null,
      "outputs": []
    },
    {
      "cell_type": "code",
      "source": [
        "env2021.isnull().sum()"
      ],
      "metadata": {
        "id": "1jyASmOleAy2"
      },
      "execution_count": null,
      "outputs": []
    }
  ]
}